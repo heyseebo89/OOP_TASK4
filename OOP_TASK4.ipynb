{
  "nbformat": 4,
  "nbformat_minor": 0,
  "metadata": {
    "colab": {
      "name": "OOP_TASK4.ipynb",
      "provenance": [],
      "authorship_tag": "ABX9TyMdmYojn8Wa7SbzW9VKf1MJ",
      "include_colab_link": true
    },
    "kernelspec": {
      "name": "python3",
      "display_name": "Python 3"
    },
    "language_info": {
      "name": "python"
    }
  },
  "cells": [
    {
      "cell_type": "markdown",
      "metadata": {
        "id": "view-in-github",
        "colab_type": "text"
      },
      "source": [
        "<a href=\"https://colab.research.google.com/github/heyseebo89/OOP_TASK4/blob/main/OOP_TASK4.ipynb\" target=\"_parent\"><img src=\"https://colab.research.google.com/assets/colab-badge.svg\" alt=\"Open In Colab\"/></a>"
      ]
    },
    {
      "cell_type": "code",
      "metadata": {
        "colab": {
          "base_uri": "https://localhost:8080/"
        },
        "id": "mXvjqmkqZiZ-",
        "outputId": "6d5998f6-f5d4-409b-d72e-258f92a8d289"
      },
      "source": [
        "#1ST QUESTION\n",
        "class Node:\n",
        "    def __init__(self, data, nextNode = None):\n",
        "        self.value = data\n",
        "        self.next = nextNode\n",
        "\n",
        "    def __del__(self):\n",
        "        print(\"{0} has been deleted from the stack.\".format(self.value))\n",
        "\n",
        "class Stack(Node):\n",
        "    def __init__(self, head_val):\n",
        "        self.head = Node(\"head\")            # head pointer node\n",
        "        self.size = 0\n",
        "        self.push(head_val)\n",
        "\n",
        "    def isEmpty(self):\n",
        "        if self.size == 0:\n",
        "            print(\"Stack is empty.\")\n",
        "        else:\n",
        "            print(\"Stack is not empty.\")\n",
        "\n",
        "    def push(self, data):\n",
        "        node = Node(data, self.head.next)\n",
        "        self.head.next = node\n",
        "        self.size += 1\n",
        "        print(\"{0} has been added to the stack.\".format(data))\n",
        "\n",
        "    def pop(self):\n",
        "        if self.size == 0:\n",
        "            print(\"Stack is empty!\")\n",
        "            return\n",
        "        delete = self.head.next\n",
        "        value = delete.value\n",
        "        del delete\n",
        "        self.head.next = self.head.next.next\n",
        "        self.size -=1\n",
        "        return value\n",
        "\n",
        "    def printStack(self):\n",
        "        if self.size == 0:\n",
        "            print(\"Stack is empty!\")\n",
        "            return\n",
        "        top = self.head.next\n",
        "        out = \"\"\n",
        "        while top:\n",
        "          out += str(top.value) + \" -> \"\n",
        "          top = top.next\n",
        "        print(out[:-4])\n",
        "\n",
        "    def __del__(self):\n",
        "        print(\"Stack has been deallocated.\")\n",
        "\n",
        "if __name__ == \"__main__\":\n",
        "    stack = Stack(1)                # First top node is 1\n",
        "    for i in range(2, 11):\n",
        "        stack.push(i)\n",
        "    stack.printStack()\n",
        "    for i in range(3, 11):\n",
        "        stack.pop()\n",
        "    stack.printStack()\n",
        "    stack.pop()\n",
        "    stack.pop()\n",
        "    stack.printStack()"
      ],
      "execution_count": 3,
      "outputs": [
        {
          "output_type": "stream",
          "name": "stdout",
          "text": [
            "1 has been added to the stack.\n",
            "2 has been added to the stack.\n",
            "3 has been added to the stack.\n",
            "4 has been added to the stack.\n",
            "5 has been added to the stack.\n",
            "6 has been added to the stack.\n",
            "7 has been added to the stack.\n",
            "8 has been added to the stack.\n",
            "9 has been added to the stack.\n",
            "10 has been added to the stack.\n",
            "10 -> 9 -> 8 -> 7 -> 6 -> 5 -> 4 -> 3 -> 2 -> 1\n",
            "10 has been deleted from the stack.\n",
            "9 has been deleted from the stack.\n",
            "8 has been deleted from the stack.\n",
            "7 has been deleted from the stack.\n",
            "6 has been deleted from the stack.\n",
            "5 has been deleted from the stack.\n",
            "4 has been deleted from the stack.\n",
            "3 has been deleted from the stack.\n",
            "2 -> 1\n",
            "2 has been deleted from the stack.\n",
            "1 has been deleted from the stack.\n",
            "Stack is empty!\n"
          ]
        }
      ]
    },
    {
      "cell_type": "code",
      "metadata": {
        "colab": {
          "base_uri": "https://localhost:8080/"
        },
        "id": "LmHlIiUhacvK",
        "outputId": "b1da84d1-457c-4be0-dc40-ad58f5a416f8"
      },
      "source": [
        "#2ND QUESTION\n",
        "# using default constructor\n",
        "\n",
        "class Area:\n",
        "\n",
        "  def __init__(self):\n",
        "    self.length = 30\n",
        "    self.breadth = 25\n",
        "\n",
        "  def area(self):\n",
        "    print(\"area = \", self.length*self.breadth)\n",
        "\n",
        "obj = Area()\n",
        "obj.area()"
      ],
      "execution_count": 4,
      "outputs": [
        {
          "output_type": "stream",
          "name": "stdout",
          "text": [
            "area =  750\n"
          ]
        }
      ]
    },
    {
      "cell_type": "code",
      "metadata": {
        "colab": {
          "base_uri": "https://localhost:8080/"
        },
        "id": "p1t8SrMvaq9P",
        "outputId": "66e3c724-3cea-4cdf-d065-7e3abe4bce54"
      },
      "source": [
        "#2ND QUESTION\n",
        "# using parameterised constructor\n",
        "\n",
        "class Area:\n",
        "\n",
        "  def __init__(self, length, breadth):\n",
        "    self.length = length\n",
        "    self.breadth = breadth\n",
        "\n",
        "  def area(self):\n",
        "    print(\"area = \", self.length*self.breadth)\n",
        "\n",
        "obj = Area(28, 25)\n",
        "obj.area()"
      ],
      "execution_count": 5,
      "outputs": [
        {
          "output_type": "stream",
          "name": "stdout",
          "text": [
            "area =  700\n"
          ]
        }
      ]
    },
    {
      "cell_type": "code",
      "metadata": {
        "colab": {
          "base_uri": "https://localhost:8080/"
        },
        "id": "2Z1A5-bMa8rI",
        "outputId": "2caa1766-262f-40ed-dede-a7617c1c2e11"
      },
      "source": [
        "# 3RD QUESTION\n",
        "class Queue(object):\n",
        "    def __init__(self, size):\n",
        "        self.queue = []\n",
        "        self.size = size\n",
        "\n",
        "    def __str__(self):\n",
        "        myString = ' '.join(str(i) for i in self.queue)\n",
        "        return myString\n",
        "\n",
        "    def enqueue(self, item):\n",
        "        if(self.isFull() != True):\n",
        "            self.queue.insert(0, item)\n",
        "        else:\n",
        "            print('Queue is Full!')\n",
        "\n",
        "    def dequeue(self):\n",
        "        if(self.isEmpty() != True):\n",
        "            return self.queue.pop()\n",
        "        else:\n",
        "            print('Queue is Empty!')\n",
        "\n",
        "    def isEmpty(self):\n",
        "        return self.queue == []\n",
        "\n",
        "    def isFull(self):\n",
        "        return len(self.queue) == self.size\n",
        "\n",
        "    def peek(self):\n",
        "        if(self.isEmpty() != True):\n",
        "            return self.queue[-1]\n",
        "        else:\n",
        "            print('Queue is Empty!')\n",
        "            \n",
        "\n",
        "if __name__ == '__main__':\n",
        "    myQueue = Queue(10)\n",
        "    myQueue.enqueue(4)\n",
        "    myQueue.enqueue(5)\n",
        "    myQueue.enqueue(6)\n",
        "    \n",
        "    print(myQueue)\n",
        "    \n",
        "    myQueue.enqueue(1)\n",
        "    myQueue.enqueue(2)\n",
        "    myQueue.enqueue(3)\n",
        "    \n",
        "    print(myQueue)\n",
        "    \n",
        "    myQueue.dequeue()\n",
        "    \n",
        "    print(myQueue)"
      ],
      "execution_count": 7,
      "outputs": [
        {
          "output_type": "stream",
          "name": "stdout",
          "text": [
            "6 5 4\n",
            "3 2 1 6 5 4\n",
            "3 2 1 6 5\n"
          ]
        }
      ]
    }
  ]
}